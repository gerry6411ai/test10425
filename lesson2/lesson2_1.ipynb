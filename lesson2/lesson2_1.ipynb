{
 "cells": [
  {
   "cell_type": "markdown",
   "metadata": {},
   "source": [
    "### 呼叫function"
   ]
  },
  {
   "cell_type": "code",
   "execution_count": null,
   "metadata": {},
   "outputs": [],
   "source": [
    "def menu(wine:str, entree:str, dessert:str)->dict\n",
    "     \n",
    "       return{\"wine\":wine,\n",
    "               \"entree\":entree,\n",
    "               \"desert\":desert\n",
    "              }\n",
    "       print(\"wine\",wine,\"entree\",entree,\"desert\",dessert) "
   ]
  },
  {
   "cell_type": "code",
   "execution_count": null,
   "metadata": {},
   "outputs": [],
   "source": []
  },
  {
   "cell_type": "code",
   "execution_count": null,
   "metadata": {},
   "outputs": [
    {
     "name": "stdout",
     "output_type": "stream",
     "text": [
      "wine 白酒 entree 牛排 desert 蛋糕\n"
     ]
    }
   ],
   "source": [
    "#引數值的呼叫(依照順序)\n",
    "pk:dict = menu('白酒', '牛排','蛋糕')\n",
    "#menu('白酒', '牛排')錯誤"
   ]
  },
  {
   "cell_type": "code",
   "execution_count": 3,
   "metadata": {},
   "outputs": [
    {
     "name": "stdout",
     "output_type": "stream",
     "text": [
      "wine 白酒 entree 牛排 desert 蛋糕\n"
     ]
    }
   ],
   "source": [
    "#引數值呼叫\n",
    "pk:dict = menu(\"白酒\",\"牛排\",\"蛋糕\")\n",
    "pk"
   ]
  },
  {
   "cell_type": "code",
   "execution_count": 4,
   "metadata": {},
   "outputs": [
    {
     "name": "stdout",
     "output_type": "stream",
     "text": [
      "wine 白酒 entree 牛排 desert 蛋糕\n"
     ]
    }
   ],
   "source": [
    "\n",
    "#引數名稱的呼叫(可以不依照順序)\n",
    "pk:dict= menu(entree='牛排',wine='白酒',dessert='蛋糕')\n",
    "pk"
   ]
  },
  {
   "cell_type": "code",
   "execution_count": 6,
   "metadata": {},
   "outputs": [
    {
     "name": "stdout",
     "output_type": "stream",
     "text": [
      "wine 白酒 entree 牛排 desert 蛋糕\n"
     ]
    }
   ],
   "source": [
    "#混合呼叫\n",
    "#前面要引數值呼叫\n",
    "#後面引數名稱呼叫\n",
    "#引數名稱呼叫後,全部都要引數名稱呼叫\n",
    "\n",
    "pk:dict = menu(\"白酒\",dessert=\"蛋糕\",entree=\"牛排\")\n",
    "pk"
   ]
  },
  {
   "cell_type": "code",
   "execution_count": null,
   "metadata": {},
   "outputs": [],
   "source": []
  },
  {
   "cell_type": "code",
   "execution_count": null,
   "metadata": {},
   "outputs": [],
   "source": []
  }
 ],
 "metadata": {
  "kernelspec": {
   "display_name": ".venv",
   "language": "python",
   "name": "python3"
  },
  "language_info": {
   "codemirror_mode": {
    "name": "ipython",
    "version": 3
   },
   "file_extension": ".py",
   "mimetype": "text/x-python",
   "name": "python",
   "nbconvert_exporter": "python",
   "pygments_lexer": "ipython3",
   "version": "3.13.2"
  }
 },
 "nbformat": 4,
 "nbformat_minor": 2
}
